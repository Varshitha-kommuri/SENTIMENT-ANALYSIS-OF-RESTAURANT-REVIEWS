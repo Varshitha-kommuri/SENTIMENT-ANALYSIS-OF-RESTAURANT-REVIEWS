{
  "nbformat": 4,
  "nbformat_minor": 0,
  "metadata": {
    "colab": {
      "provenance": [],
      "authorship_tag": "ABX9TyNsdegC+NhMuFWcyOWvSuLJ",
      "include_colab_link": true
    },
    "kernelspec": {
      "name": "python3",
      "display_name": "Python 3"
    },
    "language_info": {
      "name": "python"
    }
  },
  "cells": [
    {
      "cell_type": "markdown",
      "metadata": {
        "id": "view-in-github",
        "colab_type": "text"
      },
      "source": [
        "<a href=\"https://colab.research.google.com/github/Varshitha-kommuri/SENTIMENT-ANALYSIS-OF-RESTAURANT-REVIEWS/blob/main/LSTM.ipynb\" target=\"_parent\"><img src=\"https://colab.research.google.com/assets/colab-badge.svg\" alt=\"Open In Colab\"/></a>"
      ]
    },
    {
      "cell_type": "code",
      "execution_count": null,
      "metadata": {
        "colab": {
          "base_uri": "https://localhost:8080/",
          "height": 241
        },
        "id": "bUHXBavxiM3U",
        "outputId": "209c8180-0855-44f5-f8f5-8256dca4674f"
      },
      "outputs": [
        {
          "output_type": "stream",
          "name": "stdout",
          "text": [
            "(1000, 1)\n",
            "(1000,)\n"
          ]
        },
        {
          "output_type": "execute_result",
          "data": {
            "text/plain": [
              "                                                Review\n",
              "995  I think food should have flavor and texture an...\n",
              "996                           Appetite instantly gone.\n",
              "997  Overall I was not impressed and would not go b...\n",
              "998  The whole experience was underwhelming, and I ...\n",
              "999  Then, as if I hadn't wasted enough of my life ..."
            ],
            "text/html": [
              "\n",
              "  <div id=\"df-1646f3e0-f56a-485d-968d-f2d3fce6fa6f\" class=\"colab-df-container\">\n",
              "    <div>\n",
              "<style scoped>\n",
              "    .dataframe tbody tr th:only-of-type {\n",
              "        vertical-align: middle;\n",
              "    }\n",
              "\n",
              "    .dataframe tbody tr th {\n",
              "        vertical-align: top;\n",
              "    }\n",
              "\n",
              "    .dataframe thead th {\n",
              "        text-align: right;\n",
              "    }\n",
              "</style>\n",
              "<table border=\"1\" class=\"dataframe\">\n",
              "  <thead>\n",
              "    <tr style=\"text-align: right;\">\n",
              "      <th></th>\n",
              "      <th>Review</th>\n",
              "    </tr>\n",
              "  </thead>\n",
              "  <tbody>\n",
              "    <tr>\n",
              "      <th>995</th>\n",
              "      <td>I think food should have flavor and texture an...</td>\n",
              "    </tr>\n",
              "    <tr>\n",
              "      <th>996</th>\n",
              "      <td>Appetite instantly gone.</td>\n",
              "    </tr>\n",
              "    <tr>\n",
              "      <th>997</th>\n",
              "      <td>Overall I was not impressed and would not go b...</td>\n",
              "    </tr>\n",
              "    <tr>\n",
              "      <th>998</th>\n",
              "      <td>The whole experience was underwhelming, and I ...</td>\n",
              "    </tr>\n",
              "    <tr>\n",
              "      <th>999</th>\n",
              "      <td>Then, as if I hadn't wasted enough of my life ...</td>\n",
              "    </tr>\n",
              "  </tbody>\n",
              "</table>\n",
              "</div>\n",
              "    <div class=\"colab-df-buttons\">\n",
              "\n",
              "  <div class=\"colab-df-container\">\n",
              "    <button class=\"colab-df-convert\" onclick=\"convertToInteractive('df-1646f3e0-f56a-485d-968d-f2d3fce6fa6f')\"\n",
              "            title=\"Convert this dataframe to an interactive table.\"\n",
              "            style=\"display:none;\">\n",
              "\n",
              "  <svg xmlns=\"http://www.w3.org/2000/svg\" height=\"24px\" viewBox=\"0 -960 960 960\">\n",
              "    <path d=\"M120-120v-720h720v720H120Zm60-500h600v-160H180v160Zm220 220h160v-160H400v160Zm0 220h160v-160H400v160ZM180-400h160v-160H180v160Zm440 0h160v-160H620v160ZM180-180h160v-160H180v160Zm440 0h160v-160H620v160Z\"/>\n",
              "  </svg>\n",
              "    </button>\n",
              "\n",
              "  <style>\n",
              "    .colab-df-container {\n",
              "      display:flex;\n",
              "      gap: 12px;\n",
              "    }\n",
              "\n",
              "    .colab-df-convert {\n",
              "      background-color: #E8F0FE;\n",
              "      border: none;\n",
              "      border-radius: 50%;\n",
              "      cursor: pointer;\n",
              "      display: none;\n",
              "      fill: #1967D2;\n",
              "      height: 32px;\n",
              "      padding: 0 0 0 0;\n",
              "      width: 32px;\n",
              "    }\n",
              "\n",
              "    .colab-df-convert:hover {\n",
              "      background-color: #E2EBFA;\n",
              "      box-shadow: 0px 1px 2px rgba(60, 64, 67, 0.3), 0px 1px 3px 1px rgba(60, 64, 67, 0.15);\n",
              "      fill: #174EA6;\n",
              "    }\n",
              "\n",
              "    .colab-df-buttons div {\n",
              "      margin-bottom: 4px;\n",
              "    }\n",
              "\n",
              "    [theme=dark] .colab-df-convert {\n",
              "      background-color: #3B4455;\n",
              "      fill: #D2E3FC;\n",
              "    }\n",
              "\n",
              "    [theme=dark] .colab-df-convert:hover {\n",
              "      background-color: #434B5C;\n",
              "      box-shadow: 0px 1px 3px 1px rgba(0, 0, 0, 0.15);\n",
              "      filter: drop-shadow(0px 1px 2px rgba(0, 0, 0, 0.3));\n",
              "      fill: #FFFFFF;\n",
              "    }\n",
              "  </style>\n",
              "\n",
              "    <script>\n",
              "      const buttonEl =\n",
              "        document.querySelector('#df-1646f3e0-f56a-485d-968d-f2d3fce6fa6f button.colab-df-convert');\n",
              "      buttonEl.style.display =\n",
              "        google.colab.kernel.accessAllowed ? 'block' : 'none';\n",
              "\n",
              "      async function convertToInteractive(key) {\n",
              "        const element = document.querySelector('#df-1646f3e0-f56a-485d-968d-f2d3fce6fa6f');\n",
              "        const dataTable =\n",
              "          await google.colab.kernel.invokeFunction('convertToInteractive',\n",
              "                                                    [key], {});\n",
              "        if (!dataTable) return;\n",
              "\n",
              "        const docLinkHtml = 'Like what you see? Visit the ' +\n",
              "          '<a target=\"_blank\" href=https://colab.research.google.com/notebooks/data_table.ipynb>data table notebook</a>'\n",
              "          + ' to learn more about interactive tables.';\n",
              "        element.innerHTML = '';\n",
              "        dataTable['output_type'] = 'display_data';\n",
              "        await google.colab.output.renderOutput(dataTable, element);\n",
              "        const docLink = document.createElement('div');\n",
              "        docLink.innerHTML = docLinkHtml;\n",
              "        element.appendChild(docLink);\n",
              "      }\n",
              "    </script>\n",
              "  </div>\n",
              "\n",
              "\n",
              "<div id=\"df-e22616f1-ac95-4c13-8d02-f8ea490181be\">\n",
              "  <button class=\"colab-df-quickchart\" onclick=\"quickchart('df-e22616f1-ac95-4c13-8d02-f8ea490181be')\"\n",
              "            title=\"Suggest charts.\"\n",
              "            style=\"display:none;\">\n",
              "\n",
              "<svg xmlns=\"http://www.w3.org/2000/svg\" height=\"24px\"viewBox=\"0 0 24 24\"\n",
              "     width=\"24px\">\n",
              "    <g>\n",
              "        <path d=\"M19 3H5c-1.1 0-2 .9-2 2v14c0 1.1.9 2 2 2h14c1.1 0 2-.9 2-2V5c0-1.1-.9-2-2-2zM9 17H7v-7h2v7zm4 0h-2V7h2v10zm4 0h-2v-4h2v4z\"/>\n",
              "    </g>\n",
              "</svg>\n",
              "  </button>\n",
              "\n",
              "<style>\n",
              "  .colab-df-quickchart {\n",
              "      --bg-color: #E8F0FE;\n",
              "      --fill-color: #1967D2;\n",
              "      --hover-bg-color: #E2EBFA;\n",
              "      --hover-fill-color: #174EA6;\n",
              "      --disabled-fill-color: #AAA;\n",
              "      --disabled-bg-color: #DDD;\n",
              "  }\n",
              "\n",
              "  [theme=dark] .colab-df-quickchart {\n",
              "      --bg-color: #3B4455;\n",
              "      --fill-color: #D2E3FC;\n",
              "      --hover-bg-color: #434B5C;\n",
              "      --hover-fill-color: #FFFFFF;\n",
              "      --disabled-bg-color: #3B4455;\n",
              "      --disabled-fill-color: #666;\n",
              "  }\n",
              "\n",
              "  .colab-df-quickchart {\n",
              "    background-color: var(--bg-color);\n",
              "    border: none;\n",
              "    border-radius: 50%;\n",
              "    cursor: pointer;\n",
              "    display: none;\n",
              "    fill: var(--fill-color);\n",
              "    height: 32px;\n",
              "    padding: 0;\n",
              "    width: 32px;\n",
              "  }\n",
              "\n",
              "  .colab-df-quickchart:hover {\n",
              "    background-color: var(--hover-bg-color);\n",
              "    box-shadow: 0 1px 2px rgba(60, 64, 67, 0.3), 0 1px 3px 1px rgba(60, 64, 67, 0.15);\n",
              "    fill: var(--button-hover-fill-color);\n",
              "  }\n",
              "\n",
              "  .colab-df-quickchart-complete:disabled,\n",
              "  .colab-df-quickchart-complete:disabled:hover {\n",
              "    background-color: var(--disabled-bg-color);\n",
              "    fill: var(--disabled-fill-color);\n",
              "    box-shadow: none;\n",
              "  }\n",
              "\n",
              "  .colab-df-spinner {\n",
              "    border: 2px solid var(--fill-color);\n",
              "    border-color: transparent;\n",
              "    border-bottom-color: var(--fill-color);\n",
              "    animation:\n",
              "      spin 1s steps(1) infinite;\n",
              "  }\n",
              "\n",
              "  @keyframes spin {\n",
              "    0% {\n",
              "      border-color: transparent;\n",
              "      border-bottom-color: var(--fill-color);\n",
              "      border-left-color: var(--fill-color);\n",
              "    }\n",
              "    20% {\n",
              "      border-color: transparent;\n",
              "      border-left-color: var(--fill-color);\n",
              "      border-top-color: var(--fill-color);\n",
              "    }\n",
              "    30% {\n",
              "      border-color: transparent;\n",
              "      border-left-color: var(--fill-color);\n",
              "      border-top-color: var(--fill-color);\n",
              "      border-right-color: var(--fill-color);\n",
              "    }\n",
              "    40% {\n",
              "      border-color: transparent;\n",
              "      border-right-color: var(--fill-color);\n",
              "      border-top-color: var(--fill-color);\n",
              "    }\n",
              "    60% {\n",
              "      border-color: transparent;\n",
              "      border-right-color: var(--fill-color);\n",
              "    }\n",
              "    80% {\n",
              "      border-color: transparent;\n",
              "      border-right-color: var(--fill-color);\n",
              "      border-bottom-color: var(--fill-color);\n",
              "    }\n",
              "    90% {\n",
              "      border-color: transparent;\n",
              "      border-bottom-color: var(--fill-color);\n",
              "    }\n",
              "  }\n",
              "</style>\n",
              "\n",
              "  <script>\n",
              "    async function quickchart(key) {\n",
              "      const quickchartButtonEl =\n",
              "        document.querySelector('#' + key + ' button');\n",
              "      quickchartButtonEl.disabled = true;  // To prevent multiple clicks.\n",
              "      quickchartButtonEl.classList.add('colab-df-spinner');\n",
              "      try {\n",
              "        const charts = await google.colab.kernel.invokeFunction(\n",
              "            'suggestCharts', [key], {});\n",
              "      } catch (error) {\n",
              "        console.error('Error during call to suggestCharts:', error);\n",
              "      }\n",
              "      quickchartButtonEl.classList.remove('colab-df-spinner');\n",
              "      quickchartButtonEl.classList.add('colab-df-quickchart-complete');\n",
              "    }\n",
              "    (() => {\n",
              "      let quickchartButtonEl =\n",
              "        document.querySelector('#df-e22616f1-ac95-4c13-8d02-f8ea490181be button');\n",
              "      quickchartButtonEl.style.display =\n",
              "        google.colab.kernel.accessAllowed ? 'block' : 'none';\n",
              "    })();\n",
              "  </script>\n",
              "</div>\n",
              "    </div>\n",
              "  </div>\n"
            ]
          },
          "metadata": {},
          "execution_count": 129
        }
      ],
      "source": [
        "import pandas as pd\n",
        "import numpy as np\n",
        "import keras\n",
        "from keras.layers import Embedding\n",
        "from keras.preprocessing.sequence import pad_sequences\n",
        "from keras.models import Sequential\n",
        "from keras.preprocessing.text import one_hot\n",
        "from keras.layers import LSTM\n",
        "from keras.layers import Dense\n",
        "\n",
        "df = pd.read_csv('Restaurant_Reviews.tsv', sep='\\t')\n",
        "df.head()\n",
        "x = df.drop('Liked',axis=1)\n",
        "x = df.drop('Liked',axis=1)\n",
        "print(x.shape)\n",
        "x.head()\n",
        "\n",
        "y = df['Liked']\n",
        "print(y.shape)  #(1000,)\n",
        "y.head()\n",
        "\n",
        "x.tail()\n"
      ]
    },
    {
      "cell_type": "code",
      "source": [
        "voc_size = 5000\n",
        "\n",
        "import nltk\n",
        "nltk.download('stopwords')\n",
        "from nltk.corpus import stopwords\n",
        "from nltk.stem.porter import PorterStemmer\n",
        "import re\n",
        "\n",
        "#DATA PREPROCESSING\n",
        "ps = PorterStemmer()\n",
        "corpus = []\n",
        "\n",
        "for i in range(0,len(df)):\n",
        "\n",
        "  #Substituting any other other character other than A-Z or a-z with ' '.\n",
        "  review = re.sub('[^A-Za-z]',' ',df['Review'][i])\n",
        "\n",
        "  #Converting all the words into lowercase.\n",
        "  review = review.lower()\n",
        "\n",
        "  #Splitting the words.\n",
        "  review = review.split()\n",
        "\n",
        "  #If the word doesnot belong to the stopwords, then add it into review.\n",
        "  review = [ps.stem(word) for word in review if not word in stopwords.words('english')]\n",
        "\n",
        "  #Joining the words after stemming.\n",
        "  review = ' '.join(review)\n",
        "\n",
        "  #Appending the review to corpus list.\n",
        "  corpus.append(review)\n",
        "\n",
        "# onehot_representation\n",
        "onehot_rep = [one_hot(words,voc_size)for words in corpus]\n",
        "max_count = 0\n",
        "\n",
        "for i in range(0,len(onehot_rep)):\n",
        "  count = len(onehot_rep[i])\n",
        "  if(count>max_count):\n",
        "    max_count = count\n",
        "print(\"Max_length : \",max_count)\n",
        "max_len = 20\n",
        "embedded_seqs = pad_sequences(onehot_rep,padding = 'pre',maxlen = max_len)\n",
        "print(embedded_seqs)"
      ],
      "metadata": {
        "colab": {
          "base_uri": "https://localhost:8080/"
        },
        "id": "4OnEALvKk4si",
        "outputId": "8bd43f11-92bc-40b3-fa4a-be7489a9ae03"
      },
      "execution_count": null,
      "outputs": [
        {
          "output_type": "stream",
          "name": "stderr",
          "text": [
            "[nltk_data] Downloading package stopwords to /root/nltk_data...\n",
            "[nltk_data]   Package stopwords is already up-to-date!\n"
          ]
        }
      ]
    },
    {
      "cell_type": "code",
      "source": [
        "#Creating model\n",
        "\n",
        "embedding_vector_features = 45\n",
        "model = Sequential()\n",
        "model.add(Embedding(voc_size,embedding_vector_features,input_length = max_len))\n",
        "model.add(LSTM(100))\n",
        "model.add(Dense(1,activation='sigmoid'))\n",
        "model.compile(loss='binary_crossentropy',optimizer = 'adam',metrics=['accuracy'])\n",
        "print(model.summary())"
      ],
      "metadata": {
        "colab": {
          "base_uri": "https://localhost:8080/"
        },
        "id": "KsL6AeGxlSU4",
        "outputId": "3e25efdf-499d-4403-a634-ea661a211931"
      },
      "execution_count": null,
      "outputs": [
        {
          "output_type": "stream",
          "name": "stdout",
          "text": [
            "Model: \"sequential_7\"\n",
            "_________________________________________________________________\n",
            " Layer (type)                Output Shape              Param #   \n",
            "=================================================================\n",
            " embedding_7 (Embedding)     (None, 20, 45)            225000    \n",
            "                                                                 \n",
            " lstm_7 (LSTM)               (None, 100)               58400     \n",
            "                                                                 \n",
            " dense_7 (Dense)             (None, 1)                 101       \n",
            "                                                                 \n",
            "=================================================================\n",
            "Total params: 283501 (1.08 MB)\n",
            "Trainable params: 283501 (1.08 MB)\n",
            "Non-trainable params: 0 (0.00 Byte)\n",
            "_________________________________________________________________\n",
            "None\n"
          ]
        }
      ]
    },
    {
      "cell_type": "code",
      "source": [
        "X = np.array(embedded_seqs)\n",
        "Y = np.array(y)\n",
        "print(X.shape)\n",
        "print(Y.shape)"
      ],
      "metadata": {
        "colab": {
          "base_uri": "https://localhost:8080/"
        },
        "id": "VwjHNidLlVgN",
        "outputId": "bfe79eaa-ed2e-4d3c-c467-01e96d30239f"
      },
      "execution_count": null,
      "outputs": [
        {
          "output_type": "stream",
          "name": "stdout",
          "text": [
            "(1000, 20)\n",
            "(1000,)\n"
          ]
        }
      ]
    },
    {
      "cell_type": "code",
      "source": [
        "from sklearn.model_selection import train_test_split\n",
        "from sklearn import metrics\n",
        "X_train,X_test,Y_train,Y_test = train_test_split(X,Y,test_size = 0.33,random_state = 42)"
      ],
      "metadata": {
        "id": "9ZJeQUB6lYJI"
      },
      "execution_count": null,
      "outputs": []
    },
    {
      "cell_type": "code",
      "source": [
        "model_history = model.fit(X_train,Y_train,validation_split = 0.2,epochs=10,batch_size=64)"
      ],
      "metadata": {
        "colab": {
          "base_uri": "https://localhost:8080/"
        },
        "id": "SSNtbQWKldFw",
        "outputId": "254b2388-063a-418b-bf4e-7de6a322ca0d"
      },
      "execution_count": null,
      "outputs": [
        {
          "output_type": "stream",
          "name": "stdout",
          "text": [
            "Epoch 1/10\n",
            "9/9 [==============================] - 3s 115ms/step - loss: 0.6925 - accuracy: 0.5149 - val_loss: 0.6919 - val_accuracy: 0.5000\n",
            "Epoch 2/10\n",
            "9/9 [==============================] - 0s 46ms/step - loss: 0.6864 - accuracy: 0.5149 - val_loss: 0.6882 - val_accuracy: 0.5000\n",
            "Epoch 3/10\n",
            "9/9 [==============================] - 0s 43ms/step - loss: 0.6712 - accuracy: 0.6642 - val_loss: 0.6769 - val_accuracy: 0.6418\n",
            "Epoch 4/10\n",
            "9/9 [==============================] - 0s 44ms/step - loss: 0.6252 - accuracy: 0.8619 - val_loss: 0.6691 - val_accuracy: 0.5299\n",
            "Epoch 5/10\n",
            "9/9 [==============================] - 0s 45ms/step - loss: 0.5470 - accuracy: 0.7276 - val_loss: 0.6411 - val_accuracy: 0.5896\n",
            "Epoch 6/10\n",
            "9/9 [==============================] - 0s 44ms/step - loss: 0.4485 - accuracy: 0.8246 - val_loss: 0.5795 - val_accuracy: 0.7090\n",
            "Epoch 7/10\n",
            "9/9 [==============================] - 0s 41ms/step - loss: 0.3449 - accuracy: 0.9198 - val_loss: 0.7995 - val_accuracy: 0.6418\n",
            "Epoch 8/10\n",
            "9/9 [==============================] - 0s 42ms/step - loss: 0.2725 - accuracy: 0.9272 - val_loss: 0.7821 - val_accuracy: 0.6642\n",
            "Epoch 9/10\n",
            "9/9 [==============================] - 0s 43ms/step - loss: 0.2421 - accuracy: 0.9086 - val_loss: 0.5733 - val_accuracy: 0.7612\n",
            "Epoch 10/10\n",
            "9/9 [==============================] - 0s 42ms/step - loss: 0.1847 - accuracy: 0.9646 - val_loss: 0.5881 - val_accuracy: 0.7836\n"
          ]
        }
      ]
    },
    {
      "cell_type": "code",
      "source": [
        "pred = model.predict(X_test)\n",
        "for i in range(len(pred)):\n",
        " if pred[i]>0.5:\n",
        "  pred[i]=1\n",
        " else:\n",
        "  pred[i]=0\n",
        "score1 = metrics.accuracy_score(Y_test,pred)\n",
        "score2 = metrics.precision_score(Y_test,pred)\n",
        "score3 = metrics.recall_score(Y_test,pred)\n",
        "score4 = (2*score2*score3)/(score2+score3)\n",
        "print(\"Accuracy score is : {}%\".format(round(score1*100,2)))\n",
        "print(\"Precision score is: {}%\".format(round(score2*100,2)))\n",
        "print(\"Recall score is: {}%\".format(round(score3*100,2)))\n",
        "print(\"F1 score is: {}%\".format(round(score4*100,2)))"
      ],
      "metadata": {
        "colab": {
          "base_uri": "https://localhost:8080/"
        },
        "id": "SyoYhd3bljKZ",
        "outputId": "e44e509c-8b0a-433e-919d-4df658a9bdcf"
      },
      "execution_count": null,
      "outputs": [
        {
          "output_type": "stream",
          "name": "stdout",
          "text": [
            "11/11 [==============================] - 1s 9ms/step\n",
            "Accuracy score is : 72.73%\n",
            "Precision score is: 72.19%\n",
            "Recall score is: 69.43%\n",
            "F1 score is: 70.78%\n"
          ]
        }
      ]
    },
    {
      "cell_type": "code",
      "source": [
        "import matplotlib.pyplot as plt"
      ],
      "metadata": {
        "id": "YU0Nx5AillVo"
      },
      "execution_count": null,
      "outputs": []
    },
    {
      "cell_type": "code",
      "source": [
        "#PERFORMANCE CHARTS.\n",
        "\n",
        "plt.plot(model_history.history['accuracy'])\n",
        "\n",
        "plt.title('Model Accuracy')\n",
        "plt.xlabel('Epoch')\n",
        "plt.ylabel('Accuracy')\n",
        "plt.legend(['Training'],loc='upper left')\n",
        "plt.show()"
      ],
      "metadata": {
        "colab": {
          "base_uri": "https://localhost:8080/",
          "height": 472
        },
        "id": "9jNHVQhcln4N",
        "outputId": "19aa25a4-4f18-4bc3-a2e2-e3a20160098e"
      },
      "execution_count": null,
      "outputs": [
        {
          "output_type": "display_data",
          "data": {
            "text/plain": [
              "<Figure size 640x480 with 1 Axes>"
            ],
            "image/png": "[encoded data removed]"
          },
          "metadata": {}
        }
      ]
    },
    {
      "cell_type": "code",
      "source": [
        "plt.plot(model_history.history['loss'])\n",
        "plt.title('Model Loss')\n",
        "plt.xlabel('Epoch')\n",
        "plt.ylabel('Loss')\n",
        "plt.legend(['Train'],loc='upper left')\n",
        "plt.show()"
      ],
      "metadata": {
        "id": "NyUomXJtlqsp",
        "colab": {
          "base_uri": "https://localhost:8080/",
          "height": 472
        },
        "outputId": "cac2084d-d46e-41a0-bfc5-19d4b8cc1fff"
      },
      "execution_count": null,
      "outputs": [
        {
          "output_type": "display_data",
          "data": {
            "text/plain": [
              "<Figure size 640x480 with 1 Axes>"
            ],
            "image/png": "[encoded data removed]"
          },
          "metadata": {}
        }
      ]
    },
    {
      "cell_type": "code",
      "source": [
        "# Plotting confusion matrix\n",
        "import itertools\n",
        "def plot_confusion_matrix(cm,classes,normalize=False,title = 'Confusion matrix',cmap=plt.cm.Blues):\n",
        "  plt.imshow(cm,interpolation='nearest',cmap=cmap)\n",
        "  plt.title(title)\n",
        "  plt.colorbar()\n",
        "  tick_marks = np.arange(len(classes))\n",
        "  plt.xticks(tick_marks,classes,rotation = 45)\n",
        "  plt.yticks(tick_marks,classes)\n",
        "\n",
        "  if normalize:\n",
        "    cm= cm.astype('float')/cm.sum(axis=1)[:,np.newaxis]\n",
        "    print(\"Normalized confusion matix\")\n",
        "  else:\n",
        "    print(\"Confusion matrix , without normalization\")\n",
        "  thresh = cm.max()/2.0\n",
        "  for i,j in itertools.product(range(cm.shape[0]),range(cm.shape[1])):\n",
        "    plt.text(j,i,cm[i,j],horizontalalignment=\"center\",color=\"white\" if cm[i,j] >thresh else \"black\")\n",
        "  plt.tight_layout()\n",
        "  plt.ylabel('True label')\n",
        "  plt.xlabel('Predicted label')\n",
        "cm = metrics.confusion_matrix(Y_test,pred)\n",
        "plot_confusion_matrix(cm,classes=['POSITIVE','NEGATIVE'])"
      ],
      "metadata": {
        "id": "hvgrlvu4ltLg",
        "colab": {
          "base_uri": "https://localhost:8080/",
          "height": 523
        },
        "outputId": "e82edf3b-aa33-4096-a147-a520836e82ff"
      },
      "execution_count": null,
      "outputs": [
        {
          "output_type": "stream",
          "name": "stdout",
          "text": [
            "Confusion matrix , without normalization\n"
          ]
        },
        {
          "output_type": "display_data",
          "data": {
            "text/plain": [
              "<Figure size 640x480 with 2 Axes>"
            ],
            "image/png": "[encoded data removed]"
          },
          "metadata": {}
        }
      ]
    },
    {
      "cell_type": "code",
      "source": [
        "def predict_sample(sample):\n",
        "    # Preprocess the input text\n",
        "    review = re.sub('[^A-Za-z]', ' ', sample)\n",
        "    review = review.lower()\n",
        "    review = review.split()\n",
        "    review = [ps.stem(word) for word in review if not word in stopwords.words('english')]\n",
        "    review = ' '.join(review)\n",
        "\n",
        "    # Convert the preprocessed text into a one-hot representation\n",
        "    onehot_rep = [one_hot(review, voc_size)]\n",
        "\n",
        "    # Pad the one-hot representation\n",
        "    embedded_seq = pad_sequences(onehot_rep, padding='pre', maxlen=max_len)\n",
        "\n",
        "    # Make predictions using the model\n",
        "    predictions = model.predict(np.array(embedded_seq))\n",
        "\n",
        "    # Check if the sentiment is positive (1) or negative (0)\n",
        "    if predictions > 0.5:\n",
        "        return 1\n",
        "    else:\n",
        "        return 0\n"
      ],
      "metadata": {
        "id": "z9jdIi6rl12s"
      },
      "execution_count": null,
      "outputs": []
    },
    {
      "cell_type": "code",
      "source": [
        "sample = \"Overall experience was good, fell in love with the pasta\"\n",
        "if predict_sample(sample) :\n",
        "        print(sample+\" - It is a positive review\")\n",
        "else:\n",
        "        print(sample+\" - It is a negative review\")\n",
        "\n",
        "sample = \"The bread was dry\"\n",
        "if predict_sample(sample) :\n",
        "        print(sample+\" - It is a positive review\")\n",
        "else:\n",
        "        print(sample+\" - It is a negative review\")\n"
      ],
      "metadata": {
        "colab": {
          "base_uri": "https://localhost:8080/"
        },
        "id": "80soN4ATIF3Q",
        "outputId": "f7285f88-873f-47a4-bcf1-6cf1b21091f2"
      },
      "execution_count": null,
      "outputs": [
        {
          "output_type": "stream",
          "name": "stdout",
          "text": [
            "1/1 [==============================] - 0s 47ms/step\n",
            "Overall experience was good, fell in love with the pasta - It is a positive review\n",
            "1/1 [==============================] - 0s 44ms/step\n",
            "The bread was dry - It is a negative review\n"
          ]
        }
      ]
    }
  ]
}