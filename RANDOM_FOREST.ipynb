{
  "nbformat": 4,
  "nbformat_minor": 0,
  "metadata": {
    "colab": {
      "provenance": [],
      "toc_visible": true,
      "authorship_tag": "ABX9TyNtleJiiywxuvABfJKn9+ie",
      "include_colab_link": true
    },
    "kernelspec": {
      "name": "python3",
      "display_name": "Python 3"
    },
    "language_info": {
      "name": "python"
    }
  },
  "cells": [
    {
      "cell_type": "markdown",
      "metadata": {
        "id": "view-in-github",
        "colab_type": "text"
      },
      "source": [
        "<a href=\"https://colab.research.google.com/github/Varshitha-kommuri/SENTIMENT-ANALYSIS-OF-RESTAURANT-REVIEWS/blob/main/RANDOM_FOREST.ipynb\" target=\"_parent\"><img src=\"https://colab.research.google.com/assets/colab-badge.svg\" alt=\"Open In Colab\"/></a>"
      ]
    },
    {
      "cell_type": "code",
      "execution_count": null,
      "metadata": {
        "colab": {
          "base_uri": "https://localhost:8080/"
        },
        "id": "zW35jc9zD5xF",
        "outputId": "f5feb0ca-33ce-4321-aea5-00cc145cf630"
      },
      "outputs": [
        {
          "output_type": "stream",
          "name": "stdout",
          "text": [
            "(1000, 1)\n",
            "(1000,)\n"
          ]
        },
        {
          "output_type": "stream",
          "name": "stderr",
          "text": [
            "[nltk_data] Downloading package stopwords to /root/nltk_data...\n",
            "[nltk_data]   Unzipping corpora/stopwords.zip.\n"
          ]
        }
      ],
      "source": [
        "import pandas as pd\n",
        "import numpy as np\n",
        "from sklearn import metrics\n",
        "df = pd.read_csv('Restaurant_Reviews.tsv', sep='\\t')\n",
        "x = df.drop('Liked',axis=1)\n",
        "print(x.shape)\n",
        "x.head()\n",
        "#Getting the dependent feature.\n",
        "y = df['Liked']\n",
        "print(y.shape)  #(1000,)\n",
        "y.head()\n",
        "import nltk\n",
        "nltk.download('stopwords')\n",
        "from nltk.corpus import stopwords\n",
        "from nltk.stem.porter import PorterStemmer\n",
        "import re\n",
        "#DATA PREPROCESSING\n",
        "\n",
        "ps = PorterStemmer()\n",
        "corpus = []\n",
        "\n",
        "for i in range(0,len(df)):\n",
        "\n",
        "  #Substituting any other other character other than A-Z or a-z with ' '.\n",
        "  review = re.sub('[^A-Za-z]',' ',df['Review'][i])\n",
        "\n",
        "  #Converting all the words into lowercase.\n",
        "  review = review.lower()\n",
        "\n",
        "  #Splitting the words.\n",
        "  review = review.split()\n",
        "\n",
        "  #If the word doesnot belong to the stopwords, then add it into review.\n",
        "  review = [ps.stem(word) for word in review if not word in stopwords.words('english')]\n",
        "\n",
        "  #Joining the words after stemming.\n",
        "  review = ' '.join(review)\n",
        "\n",
        "  #Appending the review to corpus list.\n",
        "  corpus.append(review)\n",
        "\n",
        "from sklearn.feature_extraction.text import CountVectorizer\n",
        "#Applying CountVectorizer.\n",
        "# Creating the bag of words model.\n",
        "\n",
        "#From all the words take the most frequent 5000 words and take combination of 1,2,3 words.\n",
        "cv = CountVectorizer(max_features = 5000, ngram_range=(1,3))\n",
        "x = cv.fit_transform(corpus).toarray()\n",
        "\n"
      ]
    },
    {
      "cell_type": "code",
      "source": [
        "#Train test splitting of data.\n",
        "\n",
        "from sklearn.model_selection import train_test_split\n",
        "X_train,X_test,Y_train,Y_test = train_test_split(x,y,test_size = 0.3)\n"
      ],
      "metadata": {
        "id": "pqnDfpXUEGFB"
      },
      "execution_count": null,
      "outputs": []
    },
    {
      "cell_type": "code",
      "source": [
        "from sklearn.ensemble import RandomForestClassifier\n",
        "from sklearn.model_selection import GridSearchCV\n",
        "\n",
        " #Train test splitting of data.\n",
        "from sklearn.model_selection import train_test_split\n",
        "X_train,X_test,Y_train,Y_test = train_test_split(x,y,test_size = 0.3)\n",
        "\n",
        " # Define the hyperparameter grid with only 'n_estimators'\n",
        "param_grid = {\n",
        "    'n_estimators': [100, 200, 300, 400, 500]  # Values to search for 'n_estimators'\n",
        "}\n",
        " # Create the Random Forest classifier\n",
        "rf_classifier = RandomForestClassifier(random_state=42)\n",
        " # Create GridSearchCV object\n",
        "grid_search = GridSearchCV(\n",
        "    rf_classifier,  # Classifier\n",
        "    param_grid=param_grid,  # Hyperparameter grid with 'n_estimators'\n",
        ")\n",
        " # Fit the grid search to data\n",
        "grid_search.fit(X_train, Y_train)\n",
        " # Print the best 'n_estimators' value found by GridSearchCV\n",
        "print(\"Best 'n_estimators' Value:\", grid_search.best_params_['n_estimators'])\n",
        " # Access the best model\n",
        "best_rf_model = grid_search.best_estimator_\n",
        " # Evaluate the best model on test data\n",
        "best_rf_model.fit(X_train, Y_train)\n",
        "pred =best_rf_model.predict(X_test)\n",
        "test_accuracy = metrics.accuracy_score(Y_test,pred)\n",
        "print(\"Test Accuracy: {}%\".format(round(test_accuracy*100,2)))"
      ],
      "metadata": {
        "colab": {
          "base_uri": "https://localhost:8080/"
        },
        "id": "6B54tWoUEJwV",
        "outputId": "83a1761a-a340-4b48-9740-e1ad32f9388a"
      },
      "execution_count": null,
      "outputs": [
        {
          "output_type": "stream",
          "name": "stdout",
          "text": [
            "Best 'n_estimators' Value: 200\n",
            "Test Accuracy: 70.0%\n"
          ]
        }
      ]
    },
    {
      "cell_type": "code",
      "source": [
        "# Evaluate the best model on test data\n",
        "best_rf_model.fit(X_train, Y_train)\n",
        "pred =best_rf_model.predict(X_test)\n",
        "score1 = metrics.accuracy_score(Y_test,pred)\n",
        "score2 = metrics.precision_score(Y_test,pred)\n",
        "score3 = metrics.recall_score(Y_test,pred)\n",
        "score4 = (2*score2*score3)/(score2+score3)\n",
        "print(\"Accuracy score is : {}%\".format(round(score1*100,2)))\n",
        "print(\"Precision score is: {}%\".format(round(score2*100,2)))\n",
        "print(\"Recall score is: {}%\".format(round(score3*100,2)))\n",
        "print(\"F1 score is: {}%\".format(round(score4*100,2)))\n"
      ],
      "metadata": {
        "colab": {
          "base_uri": "https://localhost:8080/"
        },
        "id": "hj4PfJ38eno4",
        "outputId": "b02a2058-e4d3-48eb-9959-aa42089638d0"
      },
      "execution_count": null,
      "outputs": [
        {
          "output_type": "stream",
          "name": "stdout",
          "text": [
            "Accuracy score is : 70.0%\n",
            "Precision score is: 76.58%\n",
            "Recall score is: 57.05%\n",
            "F1 score is: 65.38%\n"
          ]
        }
      ]
    },
    {
      "cell_type": "code",
      "source": [
        "# Plotting confusion matrix\n",
        "import matplotlib.pyplot as plt\n",
        "from sklearn import metrics\n",
        "import seaborn as sns\n",
        "import itertools\n",
        "def plot_confusion_matrix(cm,classes,normalize=False,title = 'Confusion matrix',cmap=plt.cm.Blues):\n",
        "  plt.imshow(cm,interpolation='nearest',cmap=cmap)\n",
        "  plt.title(title)\n",
        "  plt.colorbar()\n",
        "  tick_marks = np.arange(len(classes))\n",
        "  plt.xticks(tick_marks,classes,rotation = 45)\n",
        "  plt.yticks(tick_marks,classes)\n",
        "\n",
        "  if normalize:\n",
        "    cm= cm.astype('float')/cm.sum(axis=1)[:,np.newaxis]\n",
        "    print(\"Normalized confusion matix\")\n",
        "  else:\n",
        "    print(\"Confusion matrix , without normalization\")\n",
        "  thresh = cm.max()/2.0\n",
        "  for i,j in itertools.product(range(cm.shape[0]),range(cm.shape[1])):\n",
        "    plt.text(j,i,cm[i,j],horizontalalignment=\"center\",color=\"white\" if cm[i,j] >thresh else \"black\")\n",
        "  plt.tight_layout()\n",
        "  plt.ylabel('True label')\n",
        "  plt.xlabel('Predicted label')\n",
        "cm = metrics.confusion_matrix(Y_test,pred)\n",
        "plot_confusion_matrix(cm,classes=['POSITIVE','NEGATIVE'])"
      ],
      "metadata": {
        "colab": {
          "base_uri": "https://localhost:8080/",
          "height": 523
        },
        "id": "nlCW6-uEe9Hw",
        "outputId": "9c6b1a44-76b7-472c-a65e-8fcb4b6779d7"
      },
      "execution_count": null,
      "outputs": [
        {
          "output_type": "stream",
          "name": "stdout",
          "text": [
            "Confusion matrix , without normalization\n"
          ]
        },
        {
          "output_type": "display_data",
          "data": {
            "text/plain": [
              "<Figure size 640x480 with 2 Axes>"
            ],
            "image/png": "[encoded data removed]"
          },
          "metadata": {}
        }
      ]
    },
    {
      "cell_type": "code",
      "source": [
        "def predict_sample(sample):\n",
        " #Substituting any other other character other than A-Z or a-z with ' '.\n",
        "  review = re.sub('[^A-Za-z]',' ',string = sample)\n",
        "\n",
        "  #Converting all the words into lowercase.\n",
        "  review = review.lower()\n",
        "\n",
        "  #Splitting the words.\n",
        "  review = review.split()\n",
        "\n",
        "  #If the word doesnot belong to the stopwords, then add it into review.\n",
        "  review = [ps.stem(word) for word in review if not word in stopwords.words('english')]\n",
        "\n",
        "  #Joining the words after stemming.\n",
        "  review = ' '.join(review)\n",
        "  temp= cv.transform([review]).toarray()\n",
        "  return best_rf_model.predict(temp)"
      ],
      "metadata": {
        "id": "Rh6UnZHjCtAh"
      },
      "execution_count": null,
      "outputs": []
    },
    {
      "cell_type": "code",
      "source": [
        "sample = \"The flavour and texture of food was really worst, my apettite was instantly gone\"\n",
        "if(predict_sample(sample)):\n",
        "  print(sample + \" - It is a positive review\")\n",
        "else:\n",
        "  print(sample+ \" - It is a negative review\")\n",
        "\n",
        "sample = \"The service was great,liked the salads\"\n",
        "if(predict_sample(sample)):\n",
        "  print(sample + \" - It is a positive review\")\n",
        "else:\n",
        "  print(sample+ \" - It is a negative review\")"
      ],
      "metadata": {
        "colab": {
          "base_uri": "https://localhost:8080/"
        },
        "id": "vTbtFAzGFPUQ",
        "outputId": "49c95e70-0e2c-46cc-90b1-2a26007ef541"
      },
      "execution_count": null,
      "outputs": [
        {
          "output_type": "stream",
          "name": "stdout",
          "text": [
            "The flavour and texture of food was really worst, my apettite was instantly gone - It is a negative review\n",
            "The service was great,liked the salads - It is a positive review\n"
          ]
        }
      ]
    }
  ]
}